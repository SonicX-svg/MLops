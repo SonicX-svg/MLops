{
 "cells": [
  {
   "cell_type": "code",
   "execution_count": 133,
   "metadata": {
    "id": "fmSM1O7exrxe"
   },
   "outputs": [
    {
     "name": "stdout",
     "output_type": "stream",
     "text": [
      "Overwriting create_data.py\n"
     ]
    }
   ],
   "source": [
    "%%writefile create_data.py\n",
    "\n",
    "import matplotlib.pyplot as plt\n",
    "import numpy as np\n",
    "import pandas as pd\n",
    "from sklearn.linear_model import LinearRegression\n",
    "\n",
    "# jupyter notebook --execute <notebook>   - для запуска с терминала\n",
    "\n",
    "dictdb = {}\n",
    "for i in range(3):\n",
    "    xs = np.linspace(1,10,100)\n",
    "    ys = xs + np.random.random(100)*3-1\n",
    "    dictdb['df'+str(i)] = pd.DataFrame({'x_cors':xs, 'y_cors':ys})\n",
    "\n",
    "# шумные даные\n",
    "xs = np.linspace(1,10,100)\n",
    "ys = xs + np.random.random(100)*3-1\n",
    "ys[50:60] *= 2\n",
    "df_with_noise = pd.DataFrame({'x_cors':xs, 'y_cors':ys})\n",
    "dictdb['df3'] = df_with_noise\n",
    "\n",
    "model = LinearRegression()\n",
    "model.fit(xs.reshape(-1, 1), ys)\n",
    "r_sq = model.score(xs.reshape(-1, 1), y)\n",
    "print('coefficient of determination:', r_sq)"
   ]
  },
  {
   "cell_type": "markdown",
   "metadata": {
    "id": "sHNWB1GcAKrE"
   },
   "source": [
    "### Test"
   ]
  },
  {
   "cell_type": "code",
   "execution_count": 134,
   "metadata": {
    "colab": {
     "base_uri": "https://localhost:8080/"
    },
    "id": "vc0Naw7y5lIE",
    "outputId": "23dfa3d1-b0b2-4b30-cc72-92a90690dd8c"
   },
   "outputs": [
    {
     "name": "stdout",
     "output_type": "stream",
     "text": [
      "Overwriting test_emissions.py\n"
     ]
    }
   ],
   "source": [
    "%%writefile test_emissions.py\n",
    "from create_data import dictdb\n",
    "import pytest\n",
    "from scipy import stats\n",
    "import numpy as np\n",
    "\n",
    "def test_emissions():\n",
    "  result = ''\n",
    "  for df in dictdb.keys():\n",
    "      z = stats.zscore(dictdb[df])\n",
    "      dictdb[df][(np.abs(z) > 1.2).any(axis = 1)].head() # оставляем данные о 70%\n",
    "    \n",
    "      z_mask = (np.abs(z) < 1.2).all(axis = 1)\n",
    "    \n",
    "      new_df = dictdb[df][z_mask].copy()\n",
    "      if dictdb[df][['x_cors', 'y_cors']].corr().loc['x_cors', 'y_cors'] < new_df[['x_cors', 'y_cors']].corr().loc['x_cors', 'y_cors']:\n",
    "            result += f'Данные {df} имеют шумы и могут быть улучшены\\n'\n",
    "  assert  not result, result\n",
    "\n",
    "      "
   ]
  },
  {
   "cell_type": "code",
   "execution_count": null,
   "metadata": {
    "colab": {
     "base_uri": "https://localhost:8080/"
    },
    "id": "QfWE8UFp7hJA",
    "outputId": "df28e6a4-c3c9-45db-acb8-ddc47639ae8a"
   },
   "outputs": [
    {
     "name": "stdout",
     "output_type": "stream",
     "text": [
      "\u001b[1m============================= test session starts ==============================\u001b[0m\n",
      "platform linux -- Python 3.11.6, pytest-8.2.0, pluggy-1.5.0\n",
      "rootdir: /home/sonikx/Documents\n",
      "plugins: anyio-4.3.0\n",
      "\u001b[1mcollecting ... \u001b[0m"
     ]
    }
   ],
   "source": [
    "! pytest test_emissions.py # верно, 3ый был с шумами"
   ]
  },
  {
   "cell_type": "code",
   "execution_count": null,
   "metadata": {},
   "outputs": [],
   "source": []
  },
  {
   "cell_type": "code",
   "execution_count": null,
   "metadata": {},
   "outputs": [],
   "source": []
  }
 ],
 "metadata": {
  "colab": {
   "provenance": []
  },
  "kernelspec": {
   "display_name": "Python 3 (ipykernel)",
   "language": "python",
   "name": "python3"
  },
  "language_info": {
   "codemirror_mode": {
    "name": "ipython",
    "version": 3
   },
   "file_extension": ".py",
   "mimetype": "text/x-python",
   "name": "python",
   "nbconvert_exporter": "python",
   "pygments_lexer": "ipython3",
   "version": "3.11.6"
  }
 },
 "nbformat": 4,
 "nbformat_minor": 4
}
